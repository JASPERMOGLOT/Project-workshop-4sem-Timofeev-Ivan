{
  "cells": [
    {
      "cell_type": "markdown",
      "metadata": {
        "id": "vC84e9kzyxPy"
      },
      "source": [
        "<h1>Импорт библиотек"
      ]
    },
    {
      "cell_type": "code",
      "execution_count": 3,
      "metadata": {
        "id": "cgKeNegmQG5S"
      },
      "outputs": [],
      "source": [
        "import numpy as np\n",
        "import matplotlib.pyplot as plt"
      ]
    },
    {
      "cell_type": "markdown",
      "metadata": {
        "id": "qFM9uVU2x4Ls"
      },
      "source": [
        "<h1>Задача 1. Дан набор из $p$ матриц размерностью $(n, n)$ и $p$ векторов размерностью $(n, 1)$, найти сумму произведений матриц на векторы. Написать тесты для кода"
      ]
    },
    {
      "cell_type": "code",
      "execution_count": null,
      "metadata": {
        "id": "IAbUvEiYyWFF"
      },
      "outputs": [],
      "source": [
        "def sum_prod(X, V):\n",
        "    res = np.zeros((1, X[0].shape[0]))\n",
        "    for matrix, vector in zip(X, V):\n",
        "        res += matrix.dot(vector)\n",
        "    return res\n",
        "    \n",
        "\n",
        "import unittest\n",
        "\n",
        "class TestSumProd(unittest.TestCase):\n",
        "\n",
        "    def test_sum_prod(self):\n",
        "        X = [np.vstack([[1, 3, 2], [3, 4, 5], [2, 6, 3]]), np.vstack([[2, 3, 4], [1, 2, 3], [4, 2, 8]])]\n",
        "        V = [np.array([3, 2, 2]), np.array([2, 2, 8])]\n",
        "        self.assertTrue(np.array_equal(sum_prod(X, V), np.array([[55.0, 57.0, 100.0]])))\n",
        "        \n",
        "    def test_sum_prod1(self):\n",
        "        X = [np.vstack([[2, 3, 4], [5, 6, 7], [1, 2, 3]]), np.vstack([[4, 3, 5], [7, 5, 3], [2, 3, 9]])]\n",
        "        V = [np.array([3, 2, 1]), np.array([4, 5, 6])]\n",
        "        self.assertTrue(np.array_equal(sum_prod(X, V), np.array([[77.0, 105.0, 87.0]])))\n",
        "    \n",
        "    def test_sum_prod2(self):\n",
        "        X = [np.vstack([[1, 1, 1], [2, 2, 2], [3, 3, 3]]), np.vstack([[4, 4, 4], [4, 4, 4], [5, 5, 5]])]\n",
        "        V = [np.array([6, 6, 6]), np.array([5, 5, 5])]\n",
        "        self.assertTrue(np.array_equal(sum_prod(X, V), np.array([[78.0, 96.0, 129.0]])))\n",
        "\n",
        "\n",
        "unittest.main(argv=[''], verbosity=2, exit=False)"
      ]
    },
    {
      "cell_type": "markdown",
      "metadata": {
        "id": "TKwPG4fIy2w4"
      },
      "source": [
        "<h1>Задача 2. Дана матрица M, напишите функцию, которая бинаризует матрицу по некоторому threshold (то есть, все значения большие threshold становятся равными 1, иначе 0). Напишите тесты для кода"
      ]
    },
    {
      "cell_type": "code",
      "execution_count": null,
      "metadata": {
        "id": "KQDNMgsjRNH7"
      },
      "outputs": [],
      "source": [
        "def binarize(M, threshold=0.5):\n",
        "    return np.where(M>=threshold, 1, 0)\n",
        "    \n",
        "import unittest\n",
        "\n",
        "class TestBinarize(unittest.TestCase):\n",
        "\n",
        "    def test_binarize1(self):\n",
        "        X = np.arange(0, 10)\n",
        "        self.assertTrue(np.array_equal(binarize(X), np.array([0, 1, 1, 1, 1, 1, 1, 1, 1, 1])))\n",
        "\n",
        "\n",
        "    def test_binarize2(self):\n",
        "        X = np.arange(0, 10)\n",
        "        self.assertTrue(np.array_equal(binarize(X, 4), np.array([0, 0, 0, 0, 1, 1, 1, 1, 1, 1])))\n",
        "\n",
        "    def test_binarize3(self):\n",
        "        X = np.arange(0, 10)\n",
        "        self.assertTrue(np.array_equal(binarize(X, 6), np.array([0, 0, 0, 0, 0, 0, 1, 1, 1, 1])))\n",
        "\n",
        "\n",
        "unittest.main(argv=[''], verbosity=2, exit=False)"
      ]
    },
    {
      "cell_type": "markdown",
      "metadata": {
        "id": "IY5L-h-7zWhN"
      },
      "source": [
        "<h1>Задача 3. Напишите функцию, которая возвращает уникальные элементы из каждой строки матрицы. Напишите такую же функцию, но для столбцов. Напишите тесты для кода"
      ]
    },
    {
      "cell_type": "code",
      "execution_count": null,
      "metadata": {
        "id": "-8dEZhR0SBC-"
      },
      "outputs": [],
      "source": [
        "def unique_rows(mat):\n",
        "    vert, horiz = mat.shape\n",
        "    result = []\n",
        "    for i in range(vert):\n",
        "        uniq = []\n",
        "        for j in range(horiz):\n",
        "            if mat[i,j] not in uniq:\n",
        "                uniq.append(mat[i,j])\n",
        "        result.append(uniq)\n",
        "    return result\n",
        "    \n",
        "def unique_columns(mat):\n",
        "    vert, horiz = mat.shape\n",
        "    result = []\n",
        "    for i in range(horiz):\n",
        "        uniq = []\n",
        "        for j in range(vert):\n",
        "            if mat[j,i] not in uniq:\n",
        "                uniq.append(mat[j,i])\n",
        "        result.append(uniq)\n",
        "    return result\n",
        "\n",
        "import unittest\n",
        "\n",
        "class TestUniq(unittest.TestCase):\n",
        "\n",
        "    def test_unique_rows(self):\n",
        "        X = np.vstack([[2, 4, 2], [3, 5, 5], [6, 9, 9]])\n",
        "        self.assertEqual(unique_rows(X), [[2, 4], [3, 5], [6, 9]])\n",
        "\n",
        "    def test_unique_columns(self):\n",
        "        X = np.vstack([[2, 7, 3], [1, 4, 3], [2, 8, 6]])\n",
        "        self.assertEqual(unique_columns(X), [[2, 1], [7, 4, 8], [3, 6]])\n",
        "\n",
        "    def test_no_unique_rows(self):\n",
        "        X = np.vstack([[3, 2, 1], [6, 5, 4], [9, 8, 7]])\n",
        "        self.assertEqual(unique_rows(X), [[3, 2, 1], [6, 5, 4], [9, 8, 7]])\n",
        "\n",
        "    def test_no_unique_columns(self):\n",
        "        X = np.vstack([[1, 2, 3], [4, 5, 6], [7, 8, 9]])\n",
        "        self.assertEqual(unique_columns(X), [[1, 4, 7], [2, 5, 8], [3, 6, 9]])\n",
        "\n",
        "\n",
        "unittest.main(argv=[''], verbosity=2, exit=False)"
      ]
    },
    {
      "cell_type": "markdown",
      "metadata": {
        "id": "roYAlo4Jz-lH"
      },
      "source": [
        "<h1>Задача 4. Напишите функцию, которая заполняет матрицу с размерами $(m, n)$ случайными числами, распределенными по нормальному закону. Затем считает мат. ожидание и дисперсию для каждого из столбцов и строк, а также строит для каждой строки и столбца гистограмму значений (использовать функцию hist из модуля matplotlib.plot)"
      ]
    },
    {
      "cell_type": "code",
      "execution_count": null,
      "metadata": {
        "id": "nZK_71hMSQzv"
      },
      "outputs": [],
      "source": [
        "def generate_matrix(m, n):\n",
        "    X = np.random.normal(size=(m, n))\n",
        "    m_rows = X.mean(axis=0)\n",
        "    d_rows = X.var(axis=0)\n",
        "    m_cols = X.mean(axis=1)\n",
        "    d_cols = X.var(axis=1)\n",
        "    plt.hist(m_rows, alpha=0.5)\n",
        "    plt.hist(d_rows, alpha=0.5)\n",
        "    plt.legend((\"M - строки\", \"D - строки\"))\n",
        "    plt.show()\n",
        "    plt.hist(m_cols, alpha=0.5)\n",
        "    plt.hist(d_cols, alpha=0.5)\n",
        "    plt.legend((\"M - столбцы\", \"D - столбцы\"))\n",
        "    plt.show()\n",
        "    return m_rows, d_rows, m_cols, d_cols"
      ]
    },
    {
      "cell_type": "markdown",
      "metadata": {
        "id": "BDyATNdM0dJ2"
      },
      "source": [
        "<h1>Задача 5. Напишите функцию, которая заполняет матрицу $(m, n)$ в шахматном порядке заданными числами $a$ и $b$. Напишите тесты для кода"
      ]
    },
    {
      "cell_type": "code",
      "execution_count": null,
      "metadata": {
        "id": "RWNJYWQGecS6"
      },
      "outputs": [],
      "source": [
        "def chess(m, n, a, b):\n",
        "    X = np.zeros((m, n))\n",
        "    for i in range(m):\n",
        "        for j in range(n):\n",
        "            if (i + j) % 2 == 0:\n",
        "                X[i, j] = a\n",
        "            else:\n",
        "                X[i, j] = b\n",
        "    return X\n",
        "\n",
        "import unittest\n",
        "\n",
        "class TestChess(unittest.TestCase):\n",
        "\n",
        "    def test_1(self):\n",
        "        X = np.vstack([[3, 4, 3], [4, 3, 4], [3, 4, 3]])\n",
        "        self.assertTrue(np.array_equal(chess(3, 3, 3, 4), X))\n",
        "\n",
        "    def test_2(self):\n",
        "        X = np.vstack([[1, 2, 1, 2], [2, 1, 2, 1], [1, 2, 1, 2], [2, 1, 2, 1]])\n",
        "        self.assertTrue(np.array_equal(chess(4, 4, 1, 2), X))\n",
        "\n",
        "    def test_3(self):\n",
        "        X = np.vstack([[6, 7, 6, 7, 6], [7, 6, 7, 6, 7], [6, 7, 6, 7, 6], [7, 6, 7, 6, 7], [6, 7, 6, 7, 6]])\n",
        "        self.assertTrue(np.array_equal(chess(5, 5, 6, 7), X))\n",
        "\n",
        "\n",
        "unittest.main(argv=[''], verbosity=2, exit=False)"
      ]
    },
    {
      "cell_type": "markdown",
      "metadata": {
        "id": "-ymXLtTN0vB6"
      },
      "source": [
        "<h1>Задача 6. Напишите функцию, которая отрисовывает прямоугольник с заданными размерами (a, b) на изображении размера (m, n), цвет фона задайте в схеме RGB, как и цвет прямоугольника. Цвета также должны быть параметрами функции. Напишите аналогичную функцию но для овала с полуосями a и b. Напишите тесты для кода.\n",
        "Примечание: уравнение эллипса (границы овала) можно записать как:\n",
        "<h1>$\\frac{(x-x_0)^2}{a^2}+\\frac{(y-y_0)^2}{b^2}=1$"
      ]
    },
    {
      "cell_type": "code",
      "execution_count": 1,
      "metadata": {
        "id": "sNfl1t_kfOF4"
      },
      "outputs": [],
      "source": [
        "def draw_rectangle(a, b, m, n, rectangle_color, bg_color):\n",
        "    bg = [[bg_color] * m] * n\n",
        "    plt.imshow(bg)\n",
        "    plt.gca().add_patch(Rectangle((0, 0), a, b, facecolor=list([i / 255 for i in rectangle_color])))\n",
        "    plt.show()\n",
        "    return\n",
        "\n",
        "def draw_ellipse(a, b, m, n, ellipse_color, bg_color):\n",
        "    bg = [[bg_color] * m] * n\n",
        "    plt.imshow(bg)\n",
        "    plt.gca().add_patch(Ellipse((m / 2, n / 2), a, b, facecolor=list([i / 255 for i in ellipse_color])))\n",
        "    plt.show()\n",
        "    return"
      ]
    },
    {
      "cell_type": "markdown",
      "metadata": {
        "id": "S82c38oz244H"
      },
      "source": [
        "<h1>Задача 7. Дан некий временной ряд. Для данного ряда нужно найти его: математическое ожидание, дисперсию, СКО, найти все локальные максимумы и минимумы (локальный максимум - это точка, которая больше своих соседних точек, а локальный минимум - это точка, которая меньше своих соседей), а также вычислить для данного ряда другой ряд, получаемый методом скользящего среднего с размером окна $p$.\n",
        "<h1>Примечание: метод скользящего среднего подразумевает нахождение среднего из подмножетсва ряда размером $p$"
      ]
    },
    {
      "cell_type": "code",
      "execution_count": null,
      "metadata": {
        "id": "Zb9mIVge5MMt"
      },
      "outputs": [],
      "source": [
        "def analyze(X, p):\n",
        "    m = X.mean()\n",
        "    d = X.var()\n",
        "    s = X.std()\n",
        "    max = []\n",
        "    min = []\n",
        "    sma = [X[0]]\n",
        "    for i in range(X.shape[0]):\n",
        "\n",
        "        if X[i] < X[i + 1] and i == 0:\n",
        "            min.append((i, X[i]))\n",
        "            continue\n",
        "\n",
        "        if X[i] < X[i - 1] and i == X.shape[0] - 1:\n",
        "            min.append((i, X[i]))\n",
        "            continue\n",
        "\n",
        "        if X[i] > X[i - 1] and i == X.shape[0] - 1:\n",
        "            max.append((i, X[i]))\n",
        "            continue\n",
        "\n",
        "        if X[i] > X[i + 1] and i == 0:\n",
        "            max.append((i, X[i]))\n",
        "            continue\n",
        "\n",
        "        if i in (0, X.shape[0] - 1):\n",
        "            continue\n",
        "\n",
        "        if X[i] > X[i + 1] and X[i] > X[i - 1]:\n",
        "            max.append((i, X[i]))\n",
        "\n",
        "        if X[i] < X[i + 1] and X[i] < X[i - 1]:\n",
        "            min.append((i, X[i]))\n",
        "\n",
        "    for i in range(1, X.shape[0]):\n",
        "        if i < p:\n",
        "            sma.append(X[0:i].mean())\n",
        "        else:\n",
        "            sma.append(X[i - p:i].mean())\n",
        "    return {\"M\": m, \"D\": d, \"СКО\": s, \"minimums\": min, \"maximum\": max, \"Скользящее среднее\": sma}"
      ]
    },
    {
      "cell_type": "markdown",
      "metadata": {
        "id": "jPkylmOX5O9n"
      },
      "source": [
        "<h1> Задача 8. Дан некоторый вектор с целочисленными метками классов, напишите функцию, которая выполняет one-hot-encoding для данного вектора\n",
        "<h1> One-hot-encoding - представление, в котором на месте метки некоторого класса стоит 1, в остальных позициях стоит 0. Например для вектора [0, 2, 3, 0] one-hot-encoding выглядит как: [[1, 0, 0, 0], [0, 0, 1, 0], [0, 0, 0, 1], [1, 0, 0, 0]]"
      ]
    },
    {
      "cell_type": "code",
      "execution_count": null,
      "metadata": {
        "id": "Y-jlnZvw56lD"
      },
      "outputs": [],
      "source": [
        "def one_hot_encode(X):\n",
        "    res = np.zeros((X.shape[0], X.max() + 1))\n",
        "    for i in range(X.shape[0]):\n",
        "        res[i, X[i]] = 1\n",
        "    return res"
      ]
    }
  ],
  "metadata": {
    "colab": {
      "provenance": []
    },
    "kernelspec": {
      "display_name": "Python 3",
      "name": "python3"
    },
    "language_info": {
      "name": "python"
    }
  },
  "nbformat": 4,
  "nbformat_minor": 0
}
