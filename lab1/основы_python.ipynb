{
  "cells": [
    {
      "cell_type": "markdown",
      "metadata": {
        "id": "M-DGa20PaHnu"
      },
      "source": [
        "#Задача 1\n",
        "Написать функцию на вход которой подается строка, состоящая из латинских букв.\n",
        "Функция должна вернуть количество гласных букв (a, e, i, o, u) в этой строке. Написать тесты для кода"
      ]
    },
    {
      "cell_type": "code",
      "execution_count": null,
      "metadata": {
        "id": "XvX8X_JJ6PCb"
      },
      "outputs": [],
      "source": [
        "def count_vowels(string):\n",
        "    if type(string) is not str:\n",
        "        return 'Type Error'\n",
        "    else:\n",
        "        string = string.lower()\n",
        "        vowels_letters = ['e', 'u', 'i', 'o', 'a']\n",
        "        count = 0\n",
        "        for i in range(len(string)):\n",
        "            if string[i] in vowels_letters:\n",
        "                count += 1\n",
        "        return count\n",
        "    \n",
        "\n",
        "import unittest\n",
        "\n",
        "class TestCountVowels(unittest.TestCase):\n",
        "    def test_empty_string(self):\n",
        "        self.assertEqual(count_vowels(''), 0)\n",
        "    \n",
        "    def test_no_vowels(self):\n",
        "        self.assertEqual(count_vowels('bcdfg'), 0)\n",
        "    \n",
        "    def test_all_vowels(self):\n",
        "        self.assertEqual(count_vowels('aeiou'), 5)\n",
        "    \n",
        "    def test_mixed_case(self):\n",
        "        self.assertEqual(count_vowels('HeLlO'), 2)\n",
        "    \n",
        "    def test_multiple_vowels(self):\n",
        "        self.assertEqual(count_vowels('beautiful'), 5)\n",
        "        \n",
        "    def test_wrong_type(self):\n",
        "        self.assertEqual(count_vowels(6), 'Type Error')\n",
        "        self.assertEqual(count_vowels(5), 'Type Error')\n",
        "        self.assertEqual(count_vowels(True), 'Type Error')\n",
        "        self.assertEqual(count_vowels(['a', 'b']), 'Type Error')\n",
        "\n",
        "if __name__ == '__main__':\n",
        "    unittest.main()"
      ]
    },
    {
      "cell_type": "markdown",
      "metadata": {
        "id": "t2ClV_Y0bbr6"
      },
      "source": [
        "# Задача 2\n",
        "Написать функцию на вход, которой подается строка. Функция должна вернуть true, если\n",
        "каждый символ в строке встречается только 1 раз, иначе должна вернуть false. Написать тесты для кода"
      ]
    },
    {
      "cell_type": "code",
      "execution_count": null,
      "metadata": {
        "id": "FppbECao6VIz"
      },
      "outputs": [],
      "source": [
        "def is_unique_chars(string):\n",
        "    if type(string) is not str:\n",
        "        return 'Type Error'\n",
        "    else:\n",
        "        char_set = set(string)\n",
        "        return len(char_set) == len(string)\n",
        "\n",
        "import unittest\n",
        "\n",
        "class TestUniqueChars(unittest.TestCase):\n",
        "    def test_unique_chars(self):\n",
        "        self.assertTrue(is_unique_chars(\"abcde\"))\n",
        "        self.assertFalse(is_unique_chars(\"Hello\"))\n",
        "        self.assertFalse(is_unique_chars(\"hello\"))\n",
        "        self.assertFalse(is_unique_chars(\"aabbcc\"))\n",
        "        self.assertTrue(is_unique_chars(\"!@#$%^&*()\"))\n",
        "        self.assertTrue(is_unique_chars(\"Jasper\"))\n",
        "\n",
        "    def test_wrong_type(self):\n",
        "        self.assertEqual(is_unique_chars(3), 'Type Error')\n",
        "        self.assertEqual(is_unique_chars(5), 'Type Error')\n",
        "        self.assertEqual(is_unique_chars(True), 'Type Error')\n",
        "        self.assertEqual(is_unique_chars(['a', 'b']), 'Type Error')\n",
        "\n",
        "if __name__ == '__main__':\n",
        "    unittest.main()"
      ]
    },
    {
      "cell_type": "markdown",
      "metadata": {
        "id": "udRiIK1cdt6E"
      },
      "source": [
        "# Задача 3\n",
        "Написать функцию, которая принимает положительное число и возвращает количество\n",
        "бит равных 1 в этом числе. Написать тесты для кода"
      ]
    },
    {
      "cell_type": "code",
      "execution_count": null,
      "metadata": {
        "id": "6tkfDJRz6dp_"
      },
      "outputs": [],
      "source": [
        "def count_bits(n):\n",
        "    if type(n) is not int:\n",
        "        return 'Type Error'\n",
        "    count = 0\n",
        "    while n:\n",
        "        count += n & 1\n",
        "        n >>= 1\n",
        "    return count\n",
        "\n",
        "import unittest\n",
        "\n",
        "class TestCountBits(unittest.TestCase):\n",
        "    def test_count_bits(self):\n",
        "        self.assertEqual(count_bits(0), 0)\n",
        "        self.assertEqual(count_bits(1), 1)\n",
        "        self.assertEqual(count_bits(2), 1)\n",
        "        self.assertEqual(count_bits(3), 2)\n",
        "        self.assertEqual(count_bits(4), 1)\n",
        "        self.assertEqual(count_bits(5), 2)\n",
        "        self.assertEqual(count_bits(10), 2)\n",
        "        self.assertEqual(count_bits(100), 3)\n",
        "        self.assertEqual(count_bits(1023), 10)\n",
        "\n",
        "    def test_wrong_type(self):\n",
        "        self.assertEqual(count_bits('asfdsg'), 'Type Error')\n",
        "        self.assertEqual(count_bits(False), 'Type Error')\n",
        "        self.assertEqual(count_bits(['a', 'b']), 'Type Error')\n",
        "        self.assertEqual(count_bits([1, 23]), 'Type Error')\n",
        "\n",
        "if __name__ == '__main__':\n",
        "    unittest.main()"
      ]
    },
    {
      "cell_type": "markdown",
      "metadata": {
        "id": "26dDUz-Ae17N"
      },
      "source": [
        "# Задача 4\n",
        "Написать функцию, которая принимает положительное число. Функция должна вернуть то,\n",
        "сколько раз необходимо перемножать цифры числа или результат перемножения, чтобы\n",
        "получилось число состоящее из одной цифры.\n",
        "Например, для входного числа:\n",
        "· 39 функция должна вернуть 3, так как 3*9=27 => 2*7=14 => 1*4=4\n",
        "· 4 функция должна вернуть 0, так как число уже состоит из одной цифры\n",
        "· 999 функция должна вернуть 4, так как 9*9*9=729 => 7*2*9=126 => 1*2*6=12 =>\n",
        "1*2=2. Написать тесты для кода"
      ]
    },
    {
      "cell_type": "code",
      "execution_count": null,
      "metadata": {
        "id": "BH1A_Mgi6i4G"
      },
      "outputs": [],
      "source": [
        "def magic(num):\n",
        "    if type(num) is not int:\n",
        "        return 'Type Error'\n",
        "    if num < 0:\n",
        "        return 'Number must be positive'\n",
        "    \n",
        "    count_multiplications = 0\n",
        "    f1 = True\n",
        "    new_num = 1\n",
        "\n",
        "    while f1:\n",
        "        while num > 0:\n",
        "            x = num % 10 \n",
        "            num //= 10\n",
        "            new_num *= x\n",
        "\n",
        "        count_multiplications += 1\n",
        "        if new_num < 10:\n",
        "            f1 = False\n",
        "        else:\n",
        "            num = new_num\n",
        "            new_num = 1\n",
        "\n",
        "    return count_multiplications\n",
        "\n",
        "\n",
        "import unittest\n",
        "\n",
        "class TestCountMultiplications(unittest.TestCase):\n",
        "    def test_count_multiplications(self):\n",
        "        self.assertEqual(magic(-10), 'Number must be positive')\n",
        "        self.assertEqual(magic(30), 1)\n",
        "        self.assertEqual(magic(3), 0)\n",
        "        self.assertEqual(magic(39), 3)\n",
        "\n",
        "    def test_wrong_type(self):\n",
        "        self.assertEqual(magic('asf'), 'Type Error')\n",
        "        self.assertEqual(magic(True), 'Type Error')\n",
        "        self.assertEqual(magic(['a', 5, False]), 'Type Error')\n",
        "\n",
        "    if __name__ == '__main__':\n",
        "        unittest.main()"
      ]
    },
    {
      "cell_type": "markdown",
      "metadata": {
        "id": "0nS-kIa8g8vd"
      },
      "source": [
        "# Задача 5\n",
        "Написать функцию, которая принимает два целочисленных вектора одинаковой длины и\n",
        "возвращает среднеквадратическое отклонение двух векторов. Написать тесты для кода"
      ]
    },
    {
      "cell_type": "code",
      "execution_count": null,
      "metadata": {
        "id": "8iphx4LM6xbx"
      },
      "outputs": [],
      "source": [
        "import math\n",
        "\n",
        "def mse(pred, true):\n",
        "    if type(pred) is not list or type(true) is not list:\n",
        "        return 'Type Error'\n",
        "    if len(pred) != len(true):\n",
        "        raise ValueError(\"Векторы должны быть одинаковой длины.\")\n",
        "\n",
        "    squared_diffs = [(x - y) ** 2 for x, y in zip(pred, true)]\n",
        "    mean_squared_diff = sum(squared_diffs) / len(pred)\n",
        "    rms = math.sqrt(mean_squared_diff)\n",
        "\n",
        "    return rms\n",
        "\n",
        "import unittest\n",
        "\n",
        "class TestVectorRMS(unittest.TestCase):\n",
        "    def test_equal_vectors(self):\n",
        "        pred = [1, 2, 3]\n",
        "        true = [1, 2, 3]\n",
        "        expected_rms = 0.0\n",
        "        self.assertEqual(mse(pred, true), expected_rms)\n",
        "\n",
        "    def test_different_vectors(self):\n",
        "        pred = [1, 2, 3]\n",
        "        true = [4, 5, 6]\n",
        "        expected_rms = math.sqrt(9) \n",
        "        self.assertEqual(mse(pred, true), expected_rms)\n",
        "\n",
        "    def test_unequal_lengths(self):\n",
        "        pred = [1, 2, 3]\n",
        "        true = [4, 5]\n",
        "        with self.assertRaises(ValueError):\n",
        "            mse(pred, true)\n",
        "\n",
        "if __name__ == '__main__':\n",
        "    unittest.main()"
      ]
    },
    {
      "cell_type": "markdown",
      "metadata": {
        "id": "vpIPKL439zkw"
      },
      "source": [
        "# Задача 6\n",
        "Написать функцию, принимающая целое положительное число. Функция должна вернуть\n",
        "строку вида “(n1**p1)(n2**p2)…(nk**pk)” представляющая разложение числа на простые\n",
        "множители (если pi == 1, то выводить только ni).\n",
        "Например, для числа 86240 функция должна вернуть “(2**5)(5)(7**2)(11)”. Написать тесты для кода"
      ]
    },
    {
      "cell_type": "code",
      "execution_count": null,
      "metadata": {
        "id": "pFebmcZk94Jw"
      },
      "outputs": [],
      "source": [
        "def factors(num):\n",
        "    if type(num) is not int:\n",
        "        return 'Type Error'\n",
        "    i = 2\n",
        "    factors = []\n",
        "    while i * i <= num:\n",
        "        if num % i:\n",
        "            i += 1\n",
        "        else:\n",
        "            num //= i\n",
        "            factors.append(i)\n",
        "    if num > 1:\n",
        "        factors.append(num)\n",
        "\n",
        "    uniq = sorted(set(factors))\n",
        "    result = \"\"\n",
        "    for factor in uniq:\n",
        "        power = factors.count(factor)\n",
        "        if power == 1:\n",
        "            result += f\"({factor})\"\n",
        "        else:\n",
        "            result += f\"({factor}**{power})\"\n",
        "    \n",
        "    return result\n",
        "\n",
        "import unittest\n",
        "\n",
        "class prime_factors_testCase(unittest.TestCase):\n",
        "    def test_factors(self):\n",
        "        self.assertEqual(factors(999), \"(3**3)(37)\")\n",
        "        self.assertEqual(factors(0), \"\")\n",
        "        self.assertEqual(factors(2), \"(2)\")\n",
        "\n",
        "    def test_wrong_type(self):\n",
        "        self.assertEqual(factors('asf'), 'Type Error')\n",
        "        self.assertEqual(factors(True), 'Type Error')\n",
        "        self.assertEqual(factors(['a', 5, False]), 'Type Error')\n",
        "    \n",
        "if __name__ == '__main__':\n",
        "    unittest.main()"
      ]
    },
    {
      "cell_type": "markdown",
      "metadata": {
        "id": "ps2s0BudX7A2"
      },
      "source": [
        "# Задача 7\n",
        "Написать функцию, принимающая целое число n, задающее количество кубиков. Функция\n",
        "должна определить, можно ли из данного кол-ва кубиков построить пирамиду, то есть\n",
        "можно ли представить число n как 1^2+2^2+3^2+…+k^2. Если можно, то функция должна\n",
        "вернуть k, иначе строку “It is impossible”. Написать тесты для кода"
      ]
    },
    {
      "cell_type": "code",
      "execution_count": null,
      "metadata": {
        "id": "3YPjEXxhX_YT"
      },
      "outputs": [],
      "source": [
        "def pyramid(n):\n",
        "    if type(n) is not int:\n",
        "        return 'Type Error'  \n",
        "    if n < 0:\n",
        "        return 'Number must be positive' \n",
        "    if n == 0:\n",
        "        return 'It is impossible'\n",
        "    else:\n",
        "        i = 1\n",
        "        while n > 0:\n",
        "            n -= i*i\n",
        "            i += 1\n",
        "        if n == 0:\n",
        "            return i - 1\n",
        "        else:\n",
        "            return 'It is impossible'\n",
        "    \n",
        "import unittest\n",
        "\n",
        "class build_pyramid_testCase(unittest.TestCase):\n",
        "    def test_build_pyramid(self):\n",
        "        self.assertEqual(pyramid(30), 4)\n",
        "        self.assertEqual(pyramid(91), 6)\n",
        "        self.assertEqual(pyramid(-1), 'Number must be positive')\n",
        "        self.assertEqual(pyramid(0), 'It is impossible')\n",
        "    \n",
        "    def test_wrong_type(self):\n",
        "        self.assertEqual(pyramid('asf'), 'Type Error')\n",
        "        self.assertEqual(pyramid(True), 'Type Error')\n",
        "        self.assertEqual(pyramid(['a', 5, False]), 'Type Error')\n",
        "    \n",
        "if __name__ == '__main__':\n",
        "    unittest.main()"
      ]
    },
    {
      "cell_type": "markdown",
      "metadata": {
        "id": "KeKgmIdAQMEJ"
      },
      "source": [
        "# Задача 8\n",
        "Функция принимает на вход положительное число и определяет является ли оно сбалансированным, т.е. сумма цифр до средних равна сумме цифр после. Средними в случае нечетного числа цифр считать одну цифру, в случае четного - две средних. Написать тесты для кода"
      ]
    },
    {
      "cell_type": "code",
      "execution_count": null,
      "metadata": {
        "id": "gMAAqtqlQrZt"
      },
      "outputs": [],
      "source": [
        "def sum(number):\n",
        "    sum = 0\n",
        "    while number > 0:\n",
        "        i = number % 10 \n",
        "        number //= 10\n",
        "        sum += i\n",
        "    return sum\n",
        "\n",
        "\n",
        "def is_balanced(num):\n",
        "    if type(num) is not int:\n",
        "        return 'Type Error'\n",
        "    if num < 100:\n",
        "        return 'number must be greater than 99'\n",
        "    \n",
        "    num = str(num)\n",
        "    start = num[:len(num)//2 - 1 + len(num) % 2]\n",
        "    end = num[len(num)//2 + 1:]\n",
        "\n",
        "    start_part = int(start)\n",
        "    end_part = int(end)\n",
        "\n",
        "    if sum(start_part) == sum(end_part):\n",
        "        return 'Сбалансировано'\n",
        "    return 'Несбалансировано'\n",
        "\n",
        "import unittest\n",
        "\n",
        "class balance_number_testCase(unittest.TestCase):\n",
        "    def test_is_number_balanced(self):\n",
        "        self.assertEqual(is_balanced(123456), 'Несбалансировано')\n",
        "        self.assertEqual(is_balanced(123421), 'Сбалансировано')\n",
        "        self.assertEqual(is_balanced(12412), 'Сбалансировано')\n",
        "        self.assertEqual(is_balanced(1283156), 'Несбалансировано')\n",
        "        self.assertEqual(is_balanced(100), 'Несбалансировано')\n",
        "\n",
        "    def test_wrong_type(self):\n",
        "        self.assertEqual(is_balanced('asf'), 'Type Error')\n",
        "        self.assertEqual(is_balanced(True), 'Type Error')\n",
        "        self.assertEqual(is_balanced(['a', 5, False]), 'Type Error')\n",
        "    \n",
        "if __name__ == '__main__':\n",
        "    unittest.main()"
      ]
    }
  ],
  "metadata": {
    "colab": {
      "provenance": []
    },
    "kernelspec": {
      "display_name": "Python 3",
      "name": "python3"
    },
    "language_info": {
      "name": "python"
    }
  },
  "nbformat": 4,
  "nbformat_minor": 0
}
